{
 "cells": [
  {
   "cell_type": "code",
   "execution_count": 76,
   "id": "21dcd589",
   "metadata": {},
   "outputs": [],
   "source": [
    "import numpy as np\n",
    "import pandas as pd\n",
    "import seaborn as sns\n",
    "import plotly.express as px\n",
    "import plotly.graph_objects as go\n",
    "import matplotlib.pyplot as plt"
   ]
  },
  {
   "cell_type": "code",
   "execution_count": 78,
   "id": "fac5a2bf",
   "metadata": {},
   "outputs": [],
   "source": [
    "#read the csv file\n",
    "df = pd.read_csv('../layoffs.csv')"
   ]
  },
  {
   "cell_type": "code",
   "execution_count": 79,
   "id": "0aee6da0",
   "metadata": {},
   "outputs": [
    {
     "data": {
      "text/html": [
       "<div>\n",
       "<style scoped>\n",
       "    .dataframe tbody tr th:only-of-type {\n",
       "        vertical-align: middle;\n",
       "    }\n",
       "\n",
       "    .dataframe tbody tr th {\n",
       "        vertical-align: top;\n",
       "    }\n",
       "\n",
       "    .dataframe thead th {\n",
       "        text-align: right;\n",
       "    }\n",
       "</style>\n",
       "<table border=\"1\" class=\"dataframe\">\n",
       "  <thead>\n",
       "    <tr style=\"text-align: right;\">\n",
       "      <th></th>\n",
       "      <th>company</th>\n",
       "      <th>location</th>\n",
       "      <th>industry</th>\n",
       "      <th>total_laid_off</th>\n",
       "      <th>percentage_laid_off</th>\n",
       "      <th>date</th>\n",
       "      <th>stage</th>\n",
       "      <th>country</th>\n",
       "      <th>funds_raised</th>\n",
       "    </tr>\n",
       "  </thead>\n",
       "  <tbody>\n",
       "    <tr>\n",
       "      <th>0</th>\n",
       "      <td>Ten Square Games</td>\n",
       "      <td>Wrocław</td>\n",
       "      <td>Consumer</td>\n",
       "      <td>120.0</td>\n",
       "      <td>0.25</td>\n",
       "      <td>2023-04-17</td>\n",
       "      <td>Seed</td>\n",
       "      <td>Poland</td>\n",
       "      <td>NaN</td>\n",
       "    </tr>\n",
       "    <tr>\n",
       "      <th>1</th>\n",
       "      <td>Ynsect</td>\n",
       "      <td>Paris</td>\n",
       "      <td>Food</td>\n",
       "      <td>17.0</td>\n",
       "      <td>0.25</td>\n",
       "      <td>2023-04-17</td>\n",
       "      <td>Series D</td>\n",
       "      <td>France</td>\n",
       "      <td>579.0</td>\n",
       "    </tr>\n",
       "    <tr>\n",
       "      <th>2</th>\n",
       "      <td>FamPay</td>\n",
       "      <td>Bengaluru</td>\n",
       "      <td>Finance</td>\n",
       "      <td>NaN</td>\n",
       "      <td>NaN</td>\n",
       "      <td>2023-04-17</td>\n",
       "      <td>Series A</td>\n",
       "      <td>India</td>\n",
       "      <td>42.0</td>\n",
       "    </tr>\n",
       "    <tr>\n",
       "      <th>3</th>\n",
       "      <td>Kumu</td>\n",
       "      <td>Manila</td>\n",
       "      <td>Media</td>\n",
       "      <td>NaN</td>\n",
       "      <td>NaN</td>\n",
       "      <td>2023-04-17</td>\n",
       "      <td>Series C</td>\n",
       "      <td>Philippines</td>\n",
       "      <td>94.0</td>\n",
       "    </tr>\n",
       "    <tr>\n",
       "      <th>4</th>\n",
       "      <td>Quadream</td>\n",
       "      <td>Tel Aviv</td>\n",
       "      <td>Security</td>\n",
       "      <td>NaN</td>\n",
       "      <td>1.00</td>\n",
       "      <td>2023-04-16</td>\n",
       "      <td>Unknown</td>\n",
       "      <td>Israel</td>\n",
       "      <td>NaN</td>\n",
       "    </tr>\n",
       "  </tbody>\n",
       "</table>\n",
       "</div>"
      ],
      "text/plain": [
       "            company   location  industry  total_laid_off  percentage_laid_off  \\\n",
       "0  Ten Square Games    Wrocław  Consumer           120.0                 0.25   \n",
       "1            Ynsect      Paris      Food            17.0                 0.25   \n",
       "2            FamPay  Bengaluru   Finance             NaN                  NaN   \n",
       "3              Kumu     Manila     Media             NaN                  NaN   \n",
       "4          Quadream   Tel Aviv  Security             NaN                 1.00   \n",
       "\n",
       "         date     stage      country  funds_raised  \n",
       "0  2023-04-17      Seed       Poland           NaN  \n",
       "1  2023-04-17  Series D       France         579.0  \n",
       "2  2023-04-17  Series A        India          42.0  \n",
       "3  2023-04-17  Series C  Philippines          94.0  \n",
       "4  2023-04-16   Unknown       Israel           NaN  "
      ]
     },
     "execution_count": 79,
     "metadata": {},
     "output_type": "execute_result"
    }
   ],
   "source": [
    "#output the head\n",
    "df.head()"
   ]
  },
  {
   "cell_type": "code",
   "execution_count": 80,
   "id": "7f5f7973",
   "metadata": {},
   "outputs": [
    {
     "data": {
      "text/plain": [
       "(2504, 9)"
      ]
     },
     "execution_count": 80,
     "metadata": {},
     "output_type": "execute_result"
    }
   ],
   "source": [
    "#output the shape\n",
    "df.shape"
   ]
  },
  {
   "cell_type": "code",
   "execution_count": 81,
   "id": "f35fb9a0",
   "metadata": {},
   "outputs": [
    {
     "data": {
      "text/plain": [
       "company                  0\n",
       "location                 0\n",
       "industry                 2\n",
       "total_laid_off         790\n",
       "percentage_laid_off    844\n",
       "date                     1\n",
       "stage                    6\n",
       "country                  0\n",
       "funds_raised           240\n",
       "dtype: int64"
      ]
     },
     "execution_count": 81,
     "metadata": {},
     "output_type": "execute_result"
    }
   ],
   "source": [
    "#output the null tupple count for each attribute\n",
    "df.isnull().sum()"
   ]
  },
  {
   "cell_type": "code",
   "execution_count": 82,
   "id": "0389d635",
   "metadata": {},
   "outputs": [
    {
     "data": {
      "text/html": [
       "<div>\n",
       "<style scoped>\n",
       "    .dataframe tbody tr th:only-of-type {\n",
       "        vertical-align: middle;\n",
       "    }\n",
       "\n",
       "    .dataframe tbody tr th {\n",
       "        vertical-align: top;\n",
       "    }\n",
       "\n",
       "    .dataframe thead th {\n",
       "        text-align: right;\n",
       "    }\n",
       "</style>\n",
       "<table border=\"1\" class=\"dataframe\">\n",
       "  <thead>\n",
       "    <tr style=\"text-align: right;\">\n",
       "      <th></th>\n",
       "      <th>company</th>\n",
       "      <th>location</th>\n",
       "      <th>industry</th>\n",
       "      <th>total_laid_off</th>\n",
       "      <th>percentage_laid_off</th>\n",
       "      <th>date</th>\n",
       "      <th>stage</th>\n",
       "      <th>country</th>\n",
       "      <th>funds_raised</th>\n",
       "    </tr>\n",
       "  </thead>\n",
       "  <tbody>\n",
       "    <tr>\n",
       "      <th>119</th>\n",
       "      <td>Wattpad</td>\n",
       "      <td>Toronto</td>\n",
       "      <td>NaN</td>\n",
       "      <td>42.0</td>\n",
       "      <td>0.15</td>\n",
       "      <td>2023-03-08</td>\n",
       "      <td>Acquired</td>\n",
       "      <td>Canada</td>\n",
       "      <td>117.0</td>\n",
       "    </tr>\n",
       "    <tr>\n",
       "      <th>469</th>\n",
       "      <td>Bally's Interactive</td>\n",
       "      <td>Providence</td>\n",
       "      <td>NaN</td>\n",
       "      <td>NaN</td>\n",
       "      <td>0.15</td>\n",
       "      <td>2023-01-18</td>\n",
       "      <td>Post-IPO</td>\n",
       "      <td>United States</td>\n",
       "      <td>946.0</td>\n",
       "    </tr>\n",
       "  </tbody>\n",
       "</table>\n",
       "</div>"
      ],
      "text/plain": [
       "                 company    location industry  total_laid_off  \\\n",
       "119              Wattpad     Toronto      NaN            42.0   \n",
       "469  Bally's Interactive  Providence      NaN             NaN   \n",
       "\n",
       "     percentage_laid_off        date     stage        country  funds_raised  \n",
       "119                 0.15  2023-03-08  Acquired         Canada         117.0  \n",
       "469                 0.15  2023-01-18  Post-IPO  United States         946.0  "
      ]
     },
     "execution_count": 82,
     "metadata": {},
     "output_type": "execute_result"
    }
   ],
   "source": [
    "#output the rows where industry is NaN , null\n",
    "df[df['industry'].isnull()]"
   ]
  },
  {
   "cell_type": "code",
   "execution_count": 83,
   "id": "a0567a60",
   "metadata": {},
   "outputs": [],
   "source": [
    "#remove the rows where industry is NaN , null\n",
    "df = df[~df['industry'].isnull()]"
   ]
  },
  {
   "cell_type": "code",
   "execution_count": 84,
   "id": "6913322a",
   "metadata": {},
   "outputs": [
    {
     "data": {
      "text/html": [
       "<div>\n",
       "<style scoped>\n",
       "    .dataframe tbody tr th:only-of-type {\n",
       "        vertical-align: middle;\n",
       "    }\n",
       "\n",
       "    .dataframe tbody tr th {\n",
       "        vertical-align: top;\n",
       "    }\n",
       "\n",
       "    .dataframe thead th {\n",
       "        text-align: right;\n",
       "    }\n",
       "</style>\n",
       "<table border=\"1\" class=\"dataframe\">\n",
       "  <thead>\n",
       "    <tr style=\"text-align: right;\">\n",
       "      <th></th>\n",
       "      <th>company</th>\n",
       "      <th>location</th>\n",
       "      <th>industry</th>\n",
       "      <th>total_laid_off</th>\n",
       "      <th>percentage_laid_off</th>\n",
       "      <th>date</th>\n",
       "      <th>stage</th>\n",
       "      <th>country</th>\n",
       "      <th>funds_raised</th>\n",
       "    </tr>\n",
       "  </thead>\n",
       "  <tbody>\n",
       "  </tbody>\n",
       "</table>\n",
       "</div>"
      ],
      "text/plain": [
       "Empty DataFrame\n",
       "Columns: [company, location, industry, total_laid_off, percentage_laid_off, date, stage, country, funds_raised]\n",
       "Index: []"
      ]
     },
     "execution_count": 84,
     "metadata": {},
     "output_type": "execute_result"
    }
   ],
   "source": [
    "#output the rows where industry is NaN , null\n",
    "df[df['industry'].isnull()]"
   ]
  },
  {
   "cell_type": "code",
   "execution_count": 86,
   "id": "11d7ea1e",
   "metadata": {},
   "outputs": [
    {
     "data": {
      "text/html": [
       "<div>\n",
       "<style scoped>\n",
       "    .dataframe tbody tr th:only-of-type {\n",
       "        vertical-align: middle;\n",
       "    }\n",
       "\n",
       "    .dataframe tbody tr th {\n",
       "        vertical-align: top;\n",
       "    }\n",
       "\n",
       "    .dataframe thead th {\n",
       "        text-align: right;\n",
       "    }\n",
       "</style>\n",
       "<table border=\"1\" class=\"dataframe\">\n",
       "  <thead>\n",
       "    <tr style=\"text-align: right;\">\n",
       "      <th></th>\n",
       "      <th>company</th>\n",
       "      <th>location</th>\n",
       "      <th>industry</th>\n",
       "      <th>total_laid_off</th>\n",
       "      <th>percentage_laid_off</th>\n",
       "      <th>date</th>\n",
       "      <th>stage</th>\n",
       "      <th>country</th>\n",
       "      <th>funds_raised</th>\n",
       "    </tr>\n",
       "  </thead>\n",
       "  <tbody>\n",
       "    <tr>\n",
       "      <th>2503</th>\n",
       "      <td>Blackbaud</td>\n",
       "      <td>Charleston</td>\n",
       "      <td>Other</td>\n",
       "      <td>500.0</td>\n",
       "      <td>0.14</td>\n",
       "      <td>NaN</td>\n",
       "      <td>Post-IPO</td>\n",
       "      <td>United States</td>\n",
       "      <td>NaN</td>\n",
       "    </tr>\n",
       "  </tbody>\n",
       "</table>\n",
       "</div>"
      ],
      "text/plain": [
       "        company    location industry  total_laid_off  percentage_laid_off  \\\n",
       "2503  Blackbaud  Charleston    Other           500.0                 0.14   \n",
       "\n",
       "     date     stage        country  funds_raised  \n",
       "2503  NaN  Post-IPO  United States           NaN  "
      ]
     },
     "execution_count": 86,
     "metadata": {},
     "output_type": "execute_result"
    }
   ],
   "source": [
    "#output the rows where date is NaN , null\n",
    "df[df['date'].isnull()]"
   ]
  },
  {
   "cell_type": "code",
   "execution_count": 87,
   "id": "11dcab5a",
   "metadata": {},
   "outputs": [],
   "source": [
    "#remove the rows where date is NaN , null\n",
    "df = df[~df['date'].isnull()]"
   ]
  },
  {
   "cell_type": "code",
   "execution_count": 88,
   "id": "c2192a8d",
   "metadata": {
    "scrolled": true
   },
   "outputs": [
    {
     "data": {
      "text/html": [
       "<div>\n",
       "<style scoped>\n",
       "    .dataframe tbody tr th:only-of-type {\n",
       "        vertical-align: middle;\n",
       "    }\n",
       "\n",
       "    .dataframe tbody tr th {\n",
       "        vertical-align: top;\n",
       "    }\n",
       "\n",
       "    .dataframe thead th {\n",
       "        text-align: right;\n",
       "    }\n",
       "</style>\n",
       "<table border=\"1\" class=\"dataframe\">\n",
       "  <thead>\n",
       "    <tr style=\"text-align: right;\">\n",
       "      <th></th>\n",
       "      <th>company</th>\n",
       "      <th>location</th>\n",
       "      <th>industry</th>\n",
       "      <th>total_laid_off</th>\n",
       "      <th>percentage_laid_off</th>\n",
       "      <th>date</th>\n",
       "      <th>stage</th>\n",
       "      <th>country</th>\n",
       "      <th>funds_raised</th>\n",
       "    </tr>\n",
       "  </thead>\n",
       "  <tbody>\n",
       "    <tr>\n",
       "      <th>531</th>\n",
       "      <td>Verily</td>\n",
       "      <td>SF Bay Area</td>\n",
       "      <td>Healthcare</td>\n",
       "      <td>250.0</td>\n",
       "      <td>0.15</td>\n",
       "      <td>2023-01-11</td>\n",
       "      <td>NaN</td>\n",
       "      <td>United States</td>\n",
       "      <td>3500.0</td>\n",
       "    </tr>\n",
       "    <tr>\n",
       "      <th>553</th>\n",
       "      <td>Relevel</td>\n",
       "      <td>Bengaluru</td>\n",
       "      <td>HR</td>\n",
       "      <td>40.0</td>\n",
       "      <td>0.20</td>\n",
       "      <td>2023-01-10</td>\n",
       "      <td>NaN</td>\n",
       "      <td>India</td>\n",
       "      <td>NaN</td>\n",
       "    </tr>\n",
       "    <tr>\n",
       "      <th>976</th>\n",
       "      <td>Advata</td>\n",
       "      <td>Seattle</td>\n",
       "      <td>Healthcare</td>\n",
       "      <td>32.0</td>\n",
       "      <td>0.21</td>\n",
       "      <td>2022-10-28</td>\n",
       "      <td>NaN</td>\n",
       "      <td>United States</td>\n",
       "      <td>NaN</td>\n",
       "    </tr>\n",
       "    <tr>\n",
       "      <th>982</th>\n",
       "      <td>Spreetail</td>\n",
       "      <td>Austin</td>\n",
       "      <td>Retail</td>\n",
       "      <td>NaN</td>\n",
       "      <td>NaN</td>\n",
       "      <td>2022-10-27</td>\n",
       "      <td>NaN</td>\n",
       "      <td>United States</td>\n",
       "      <td>NaN</td>\n",
       "    </tr>\n",
       "    <tr>\n",
       "      <th>1330</th>\n",
       "      <td>Gatherly</td>\n",
       "      <td>Atlanta</td>\n",
       "      <td>Marketing</td>\n",
       "      <td>NaN</td>\n",
       "      <td>0.50</td>\n",
       "      <td>2022-07-31</td>\n",
       "      <td>NaN</td>\n",
       "      <td>United States</td>\n",
       "      <td>NaN</td>\n",
       "    </tr>\n",
       "    <tr>\n",
       "      <th>1712</th>\n",
       "      <td>Zapp</td>\n",
       "      <td>London</td>\n",
       "      <td>Food</td>\n",
       "      <td>NaN</td>\n",
       "      <td>0.10</td>\n",
       "      <td>2022-05-25</td>\n",
       "      <td>NaN</td>\n",
       "      <td>United Kingdom</td>\n",
       "      <td>300.0</td>\n",
       "    </tr>\n",
       "  </tbody>\n",
       "</table>\n",
       "</div>"
      ],
      "text/plain": [
       "        company     location    industry  total_laid_off  percentage_laid_off  \\\n",
       "531      Verily  SF Bay Area  Healthcare           250.0                 0.15   \n",
       "553     Relevel    Bengaluru          HR            40.0                 0.20   \n",
       "976      Advata      Seattle  Healthcare            32.0                 0.21   \n",
       "982   Spreetail       Austin      Retail             NaN                  NaN   \n",
       "1330   Gatherly      Atlanta   Marketing             NaN                 0.50   \n",
       "1712       Zapp       London        Food             NaN                 0.10   \n",
       "\n",
       "            date stage         country  funds_raised  \n",
       "531   2023-01-11   NaN   United States        3500.0  \n",
       "553   2023-01-10   NaN           India           NaN  \n",
       "976   2022-10-28   NaN   United States           NaN  \n",
       "982   2022-10-27   NaN   United States           NaN  \n",
       "1330  2022-07-31   NaN   United States           NaN  \n",
       "1712  2022-05-25   NaN  United Kingdom         300.0  "
      ]
     },
     "execution_count": 88,
     "metadata": {},
     "output_type": "execute_result"
    }
   ],
   "source": [
    "#output the rows where stage is NaN , null\n",
    "df[df['stage'].isnull()]"
   ]
  },
  {
   "cell_type": "code",
   "execution_count": 91,
   "id": "2a18f6e5",
   "metadata": {},
   "outputs": [],
   "source": [
    "#remove the rows where stage is NaN , null\n",
    "df=df[~df['stage'].isnull()]"
   ]
  },
  {
   "cell_type": "code",
   "execution_count": 17,
   "id": "de22c355",
   "metadata": {},
   "outputs": [],
   "source": [
    "#fill the cell values to 0 where column is number and is NaN or not available\n",
    "df = df.fillna(0)"
   ]
  },
  {
   "cell_type": "code",
   "execution_count": 18,
   "id": "26c02dd0",
   "metadata": {
    "scrolled": true
   },
   "outputs": [
    {
     "data": {
      "text/plain": [
       "company                0\n",
       "location               0\n",
       "industry               0\n",
       "total_laid_off         0\n",
       "percentage_laid_off    0\n",
       "date                   0\n",
       "stage                  0\n",
       "country                0\n",
       "funds_raised           0\n",
       "dtype: int64"
      ]
     },
     "execution_count": 18,
     "metadata": {},
     "output_type": "execute_result"
    }
   ],
   "source": [
    "df.isnull().sum()"
   ]
  },
  {
   "cell_type": "code",
   "execution_count": 21,
   "id": "dab2a749",
   "metadata": {},
   "outputs": [],
   "source": [
    "#save it to the new file\n",
    "df.to_csv('layoffs_cleaned.csv', index=False)"
   ]
  },
  {
   "cell_type": "code",
   "execution_count": 20,
   "id": "1da08d70",
   "metadata": {},
   "outputs": [
    {
     "data": {
      "text/plain": [
       "(2495, 9)"
      ]
     },
     "execution_count": 20,
     "metadata": {},
     "output_type": "execute_result"
    }
   ],
   "source": [
    "df.shape"
   ]
  }
 ],
 "metadata": {
  "kernelspec": {
   "display_name": "Python 3 (ipykernel)",
   "language": "python",
   "name": "python3"
  },
  "language_info": {
   "codemirror_mode": {
    "name": "ipython",
    "version": 3
   },
   "file_extension": ".py",
   "mimetype": "text/x-python",
   "name": "python",
   "nbconvert_exporter": "python",
   "pygments_lexer": "ipython3",
   "version": "3.10.9"
  }
 },
 "nbformat": 4,
 "nbformat_minor": 5
}
